{
 "cells": [
  {
   "cell_type": "code",
   "execution_count": 6,
   "metadata": {},
   "outputs": [
    {
     "name": "stdout",
     "output_type": "stream",
     "text": [
      "a: [[-0.12600708 -0.12600708]\n",
      " [-0.20306396 -0.20306396]\n",
      " [-0.22128296 -0.22128296]\n",
      " ...\n",
      " [ 0.07806396  0.07806396]\n",
      " [ 0.07629395  0.07629395]\n",
      " [ 0.07546997  0.07546997]]\n",
      "b: (array([ 0.00079346,  0.00115967,  0.00292969, ...,  0.00030518,\n",
      "        0.00057983, -0.00024414]), 16000)\n"
     ]
    }
   ],
   "source": [
    "import soundfile\n",
    "a, sr =  soundfile.read(\"./sound/speaker_1.wav\")\n",
    "b =  soundfile.read(\"./sound/spk1.wav\")\n",
    "print(f\"a: {a}\")\n",
    "print(f\"b: {b}\")\n",
    "soundfile.write('./sound/new_file.wav', a, samplerate = 8000)"
   ]
  }
 ],
 "metadata": {
  "kernelspec": {
   "display_name": "IEV",
   "language": "python",
   "name": "python3"
  },
  "language_info": {
   "codemirror_mode": {
    "name": "ipython",
    "version": 3
   },
   "file_extension": ".py",
   "mimetype": "text/x-python",
   "name": "python",
   "nbconvert_exporter": "python",
   "pygments_lexer": "ipython3",
   "version": "3.9.0"
  }
 },
 "nbformat": 4,
 "nbformat_minor": 2
}
